{
 "cells": [
  {
   "cell_type": "markdown",
   "metadata": {},
   "source": [
    "# LLM Prototyping Notebook\n",
    "\n",
    "Quick experiments with LLM providers"
   ]
  },
  {
   "cell_type": "code",
   "execution_count": null,
   "metadata": {},
   "outputs": [],
   "source": [
    "# Load environment and imports\n",
    "import os\n",
    "from dotenv import load_dotenv\n",
    "load_dotenv()\n",
    "\n",
    "import sys\n",
    "sys.path.append('.')\n",
    "\n",
    "from modules.llm_provider import agent\n",
    "from pydantic import BaseModel, Field\n",
    "from typing import Literal, List, Optional, Union\n",
    "from enum import Enum\n",
    "import json\n",
    "from time import time\n",
    "import logging\n",
    "\n",
    "# Setup logging\n",
    "logging.basicConfig(level=logging.INFO)"
   ]
  },
  {
   "cell_type": "code",
   "execution_count": null,
   "metadata": {},
   "outputs": [],
   "source": [
    "class CheatsheetQuestionUID(BaseModel):\n",
    "    unique_question_id: int\n",
    "\n",
    "class ResponseOption(BaseModel):\n",
    "    value: Literal['Yes', 'No', 'Maybe/Unclear']\n",
    "    notes: List[str] = Field(..., description=\"if the study...\")\n",
    "\n",
    "class CheatsheetQuestion(BaseModel):\n",
    "    question_uid: CheatsheetQuestionUID\n",
    "    question_formulation: str\n",
    "    responses: List[ResponseOption]\n",
    "    question_note: Optional[str] = Field(..., description=\"Any question-wide note(s), if present.\")\n",
    "\n",
    "class FinalDecision(BaseModel):\n",
    "    decision: Literal['Exclude', 'Include']\n",
    "\n",
    "class FlowDiagramStep(BaseModel):\n",
    "    step_id: int\n",
    "    is_last_step: bool\n",
    "    on_yes: Union[CheatsheetQuestionUID, FinalDecision]\n",
    "    on_maybe: Union[CheatsheetQuestionUID, FinalDecision]\n",
    "    on_no: Union[CheatsheetQuestionUID, FinalDecision]\n",
    "\n",
    "class ScreeningCheatsheet(BaseModel):\n",
    "    questions: List[CheatsheetQuestion]\n",
    "    flow_diagram: List[FlowDiagramStep] = Field(..., description=\"If you find a flow diagram in the input file, extract it. Otherwise implement the following pseudocode: { While is_last_step is False: { If Maybe/Yes Then Proceed to next step_id, Else Exclude } ; Once is_last_step is True: { If Maybe/Yes Then Include, Else Exclude } }\")\n",
    "\n",
    "print(json.dumps(ScreeningCheatsheet.model_json_schema(), indent=2, ensure_ascii=False))"
   ]
  },
  {
   "cell_type": "code",
   "execution_count": null,
   "metadata": {},
   "outputs": [],
   "source": [
    "system_instruction = \"You extract accurately data from a systematic review screening cheatsheet.\""
   ]
  },
  {
   "cell_type": "code",
   "execution_count": null,
   "metadata": {},
   "outputs": [],
   "source": [
    "# Create agent\n",
    "LLMPROVIDER = \"gemini\"  # or \"openrouter\", \"ollama\"\n",
    "llm_agent = agent(\n",
    "    LLMPROVIDER,\n",
    "    ScreeningCheatsheet,\n",
    "    system_instruction=system_instruction,\n",
    "    model_name=\"gemini-2.5-flash-preview-05-20\")\n",
    "\n",
    "# Test prompt\n",
    "prompt = [\n",
    "    \"Here is the cheatsheet template:\",\n",
    "    f\"{os.getenv(\"CHEATSHEET_PDF_PATH\")}\",  # note: docx is apparently unsupported\n",
    "]\n",
    "\n",
    "start_time = time()\n",
    "response = llm_agent(prompt)\n",
    "end_time = time()\n",
    "print(f\"Execution time: {end_time - start_time:.4f} seconds\")"
   ]
  },
  {
   "cell_type": "code",
   "execution_count": null,
   "metadata": {},
   "outputs": [],
   "source": [
    "%%script echo skip\n",
    "# Experiment with different providers\n",
    "providers = [\"gemini\", \"openrouter\", \"ollama\"]\n",
    "\n",
    "for provider in providers:\n",
    "    try:\n",
    "        print(f\"\\n--- Testing {provider} ---\")\n",
    "        test_agent = agent(provider)\n",
    "        response = test_agent(\"What is the capital of France?\")\n",
    "        print(f\"Response: {response.content[:100]}...\")\n",
    "    except Exception as e:\n",
    "        print(f\"Error with {provider}: {e}\")"
   ]
  }
 ],
 "metadata": {
  "kernelspec": {
   "display_name": "cheatsheet_parser",
   "language": "python",
   "name": "python3"
  },
  "language_info": {
   "codemirror_mode": {
    "name": "ipython",
    "version": 3
   },
   "file_extension": ".py",
   "mimetype": "text/x-python",
   "name": "python",
   "nbconvert_exporter": "python",
   "pygments_lexer": "ipython3",
   "version": "3.12.9"
  }
 },
 "nbformat": 4,
 "nbformat_minor": 4
}
